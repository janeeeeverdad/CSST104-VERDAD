{
  "nbformat": 4,
  "nbformat_minor": 0,
  "metadata": {
    "colab": {
      "provenance": []
    },
    "kernelspec": {
      "name": "python3",
      "display_name": "Python 3"
    },
    "language_info": {
      "name": "python"
    }
  },
  "cells": [
    {
      "cell_type": "markdown",
      "source": [
        "# CSST 104\n",
        "\n",
        "**Verdad, Jane Benneth Dione**\n",
        "\n",
        "**BSCS-3B**\n",
        "\n",
        "**February 21, 2024**"
      ],
      "metadata": {
        "id": "heZXE3sZCqVE"
      }
    },
    {
      "cell_type": "markdown",
      "source": [
        "1. Data Loading"
      ],
      "metadata": {
        "id": "kjQKzgMuF9Pj"
      }
    },
    {
      "cell_type": "code",
      "source": [
        "#Data Manipulation\n",
        "import pandas as pd\n",
        "#Data Visualization\n",
        "import matplotlib.pyplot as plt\n",
        "import seaborn as sne\n",
        "\n",
        "ds = pd.read_csv('hardwareStore.csv')"
      ],
      "metadata": {
        "id": "0EWlJIWkGDWa"
      },
      "execution_count": null,
      "outputs": []
    },
    {
      "cell_type": "markdown",
      "source": [
        "2. Initial Data Analaysis"
      ],
      "metadata": {
        "id": "F94F8rIBHI3b"
      }
    },
    {
      "cell_type": "code",
      "source": [
        "#Display Basic Statistics of the dataset\n",
        "#Identify unique categories and their counts\n",
        "statistics = ds.describe()\n",
        "print (statistics)"
      ],
      "metadata": {
        "id": "mXnjPoqZHX0N",
        "colab": {
          "base_uri": "https://localhost:8080/"
        },
        "outputId": "3f64b754-1315-4b34-817d-e6298bcbb6c6"
      },
      "execution_count": null,
      "outputs": [
        {
          "output_type": "stream",
          "name": "stdout",
          "text": [
            "       CATEGORY_ID   PRODUCT_ID  STANDARD_COST   LIST_PRICE    REGION_ID  \\\n",
            "count  1112.000000  1112.000000    1112.000000  1112.000000  1112.000000   \n",
            "mean      3.203237   139.579137     765.520405   950.993327     2.469424   \n",
            "std       1.637782    84.840057     794.252142   991.070482     0.499289   \n",
            "min       1.000000     2.000000      12.630000    15.550000     2.000000   \n",
            "25%       2.000000    71.750000     332.380000   435.222500     2.000000   \n",
            "50%       4.000000   133.000000     582.020000   744.980000     2.000000   \n",
            "75%       5.000000   216.000000     799.050000   999.990000     3.000000   \n",
            "max       5.000000   288.000000    7123.660000  8867.990000     3.000000   \n",
            "\n",
            "       LOCATION_ID  WAREHOUSE_ID     QUANTITY  \n",
            "count  1112.000000   1112.000000  1112.000000  \n",
            "mean     10.971223      5.548561   107.474820  \n",
            "std       4.662225      2.416821    68.008413  \n",
            "min       5.000000      1.000000     0.000000  \n",
            "25%       8.000000      4.000000    50.000000  \n",
            "50%      11.000000      6.000000    98.000000  \n",
            "75%      13.000000      8.000000   163.000000  \n",
            "max      23.000000      9.000000   353.000000  \n"
          ]
        }
      ]
    },
    {
      "cell_type": "markdown",
      "source": [
        "3. Category Analysis"
      ],
      "metadata": {
        "id": "QPSyLgi8Hb0V"
      }
    },
    {
      "cell_type": "code",
      "source": [
        "#Create a bar chart to visualize the distribution of products across categories\n",
        "#Determine which category has the highest number of products\n",
        "category = ds.groupby('CATEGORY_NAME')['QUANTITY']\n",
        "plt.figure(figsize = (15, 5))\n",
        "plt.subplot(1,2,1)\n",
        "plt.title('Distribution of Products by Category Name')\n",
        "plt.xlabel('Products')\n",
        "plt.ylabel('Number of Products')\n",
        "sne.histplot(ds['CATEGORY_NAME'], bins = 25, kde=False)\n"
      ],
      "metadata": {
        "colab": {
          "base_uri": "https://localhost:8080/",
          "height": 523
        },
        "id": "BxPy1Eg4HgX1",
        "outputId": "70579cc4-4a37-41f2-d521-b2096cdfbbc1"
      },
      "execution_count": null,
      "outputs": [
        {
          "output_type": "execute_result",
          "data": {
            "text/plain": [
              "<Axes: title={'center': 'Distribution of Products by Category Name'}, xlabel='Products', ylabel='Number of Products'>"
            ]
          },
          "metadata": {},
          "execution_count": 97
        },
        {
          "output_type": "display_data",
          "data": {
            "text/plain": [
              "<Figure size 1500x500 with 1 Axes>"
            ],
            "image/png": "[encoded data removed]"
          },
          "metadata": {}
        }
      ]
    },
    {
      "cell_type": "markdown",
      "source": [
        "4. Cost and Price Analysis"
      ],
      "metadata": {
        "id": "28kQ99f_Hgqz"
      }
    },
    {
      "cell_type": "code",
      "source": [
        "#Calculate the average standard cost and average list price\n",
        "average_standard_cost = ds['STANDARD_COST'].mean()\n",
        "average_list_price = ds['LIST_PRICE'].mean()\n",
        "print(\"\\nAverage Standard Cost: \", average_standard_cost)\n",
        "print(\"Average List Price: \", average_list_price)\n",
        "\n",
        "#Identify the product with highest standard cost and highest list price\n",
        "highest_standard_cost_product = ds.loc[ds['STANDARD_COST'].idxmax()]\n",
        "highest_list_price_product = ds.loc[ds['LIST_PRICE'].idxmax()]\n",
        "print(\"Product with the highest Standard Cost: \")\n",
        "print(highest_standard_cost_product[['PRODUCT_NAME','STANDARD_COST']])\n",
        "print(\"Product with the highest List Price: \")\n",
        "print(highest_list_price_product[['PRODUCT_NAME', 'LIST_PRICE']])"
      ],
      "metadata": {
        "id": "zIJ8g28EHm6t",
        "colab": {
          "base_uri": "https://localhost:8080/"
        },
        "outputId": "efd1edb4-852c-4f7e-9471-219daa491382"
      },
      "execution_count": null,
      "outputs": [
        {
          "output_type": "stream",
          "name": "stdout",
          "text": [
            "\n",
            "Average Standard Cost:  765.520404676259\n",
            "Average List Price:  950.9933273381293\n",
            "Product with the highest Standard Cost: \n",
            "PRODUCT_NAME     Intel SSDPECME040T401\n",
            "STANDARD_COST                  7123.66\n",
            "Name: 982, dtype: object\n",
            "Product with the highest List Price: \n",
            "PRODUCT_NAME    Intel SSDPECME040T401\n",
            "LIST_PRICE                    8867.99\n",
            "Name: 982, dtype: object\n"
          ]
        }
      ]
    },
    {
      "cell_type": "markdown",
      "source": [
        "5. Location Analysis"
      ],
      "metadata": {
        "id": "B1Lm5euTHn5R"
      }
    },
    {
      "cell_type": "code",
      "source": [
        "#Determine the location (city or state) with the highest quantity of products in stock.\n",
        "location = ds.groupby(['CITY', 'STATE'])['QUANTITY'].sum()\n",
        "highest_quantity_products_location = location.idxmax()\n",
        "print(\"Location with the Highest Quantity of Products:\", highest_quantity_products_location)\n"
      ],
      "metadata": {
        "id": "8MRshtodHspn",
        "colab": {
          "base_uri": "https://localhost:8080/"
        },
        "outputId": "8e5a54c2-18fd-485d-d613-31c2ffdd18c8"
      },
      "execution_count": null,
      "outputs": [
        {
          "output_type": "stream",
          "name": "stdout",
          "text": [
            "Location with the Highest Quantity of Products: ('South San Francisco', 'California')\n"
          ]
        }
      ]
    },
    {
      "cell_type": "markdown",
      "source": [
        "6. Insights and Reporting"
      ],
      "metadata": {
        "id": "PE1BcvwMHs_4"
      }
    },
    {
      "cell_type": "code",
      "source": [
        "Report = \"\"\"\n",
        "Analysis Report\n",
        "\n",
        "1. Data Loading and Initial Analysis:\n",
        "    Basic Statistics of the Dataset:\n",
        "    {}\n",
        "\n",
        "2. Category Analysis:\n",
        "    Visualization of the Category is dispalyed\n",
        "    Category with the Highest Number of Products:\n",
        "    {}\n",
        "\n",
        "3. Cost and Price Analysis:\n",
        "    Product with the Average Standard Cost: {:.2f}\n",
        "    Product with the Average List Price: {:.2f}\n",
        "    Product with the Highest Standard Cost: {}\n",
        "    Product with the Highest List Price: {}\n",
        "\n",
        "4. Location Analysis:\n",
        "    Location with Highest Quantity of Products: {}\n",
        "\n",
        "\"\"\".format(statistics, category, average_standard_cost, average_list_price,\n",
        "           highest_standard_cost_product['STANDARD_COST'],\n",
        "           highest_list_price_product['LIST_PRICE'],\n",
        "           highest_quantity_products_location)\n",
        "\n",
        "print(Report)"
      ],
      "metadata": {
        "colab": {
          "base_uri": "https://localhost:8080/"
        },
        "id": "xZE1lNIhnOFa",
        "outputId": "8fa64071-8538-426a-9edb-7570cea2cd08"
      },
      "execution_count": null,
      "outputs": [
        {
          "output_type": "stream",
          "name": "stdout",
          "text": [
            "\n",
            "Analysis Report\n",
            "\n",
            "1. Data Loading and Initial Analysis:\n",
            "    Basic Statistics of the Dataset:\n",
            "           CATEGORY_ID   PRODUCT_ID  STANDARD_COST   LIST_PRICE    REGION_ID  \\\n",
            "count  1112.000000  1112.000000    1112.000000  1112.000000  1112.000000   \n",
            "mean      3.203237   139.579137     765.520405   950.993327     2.469424   \n",
            "std       1.637782    84.840057     794.252142   991.070482     0.499289   \n",
            "min       1.000000     2.000000      12.630000    15.550000     2.000000   \n",
            "25%       2.000000    71.750000     332.380000   435.222500     2.000000   \n",
            "50%       4.000000   133.000000     582.020000   744.980000     2.000000   \n",
            "75%       5.000000   216.000000     799.050000   999.990000     3.000000   \n",
            "max       5.000000   288.000000    7123.660000  8867.990000     3.000000   \n",
            "\n",
            "       LOCATION_ID  WAREHOUSE_ID     QUANTITY  \n",
            "count  1112.000000   1112.000000  1112.000000  \n",
            "mean     10.971223      5.548561   107.474820  \n",
            "std       4.662225      2.416821    68.008413  \n",
            "min       5.000000      1.000000     0.000000  \n",
            "25%       8.000000      4.000000    50.000000  \n",
            "50%      11.000000      6.000000    98.000000  \n",
            "75%      13.000000      8.000000   163.000000  \n",
            "max      23.000000      9.000000   353.000000  \n",
            "\n",
            "2. Category Analysis:\n",
            "    Visualization of the Category is dispalyed\n",
            "    Category with the Highest Number of Products:\n",
            "    <pandas.core.groupby.generic.SeriesGroupBy object at 0x7884b4702110>\n",
            "\n",
            "3. Cost and Price Analysis:\n",
            "    Product with the Average Standard Cost: 765.52\n",
            "    Product with the Average List Price: 950.99\n",
            "    Product with the Highest Standard Cost: 7123.66\n",
            "    Product with the Highest List Price: 8867.99\n",
            "\n",
            "4. Location Analysis:\n",
            "    Location with Highest Quantity of Products: ('South San Francisco', 'California')\n",
            "\n",
            "\n"
          ]
        }
      ]
    }
  ]
}