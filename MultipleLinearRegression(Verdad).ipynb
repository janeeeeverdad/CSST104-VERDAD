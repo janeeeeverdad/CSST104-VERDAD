{
  "nbformat": 4,
  "nbformat_minor": 0,
  "metadata": {
    "colab": {
      "provenance": [],
      "toc_visible": true,
      "authorship_tag": "ABX9TyPxO7Xoatfs0Y3xQn6iBkdO",
      "include_colab_link": true
    },
    "kernelspec": {
      "name": "python3",
      "display_name": "Python 3"
    },
    "language_info": {
      "name": "python"
    }
  },
  "cells": [
    {
      "cell_type": "markdown",
      "metadata": {
        "id": "view-in-github",
        "colab_type": "text"
      },
      "source": [
        "<a href=\"https://colab.research.google.com/github/janeeeeverdad/Verdad/blob/main/MultipleLinearRegression(Verdad).ipynb\" target=\"_parent\"><img src=\"https://colab.research.google.com/assets/colab-badge.svg\" alt=\"Open In Colab\"/></a>"
      ]
    },
    {
      "cell_type": "markdown",
      "source": [
        "# CSST 104\n",
        "\n",
        "**Verdad, Jane Benneth Dione**\n",
        "\n",
        "**BSCS-3B**\n",
        "\n",
        "**February 28, 2024**"
      ],
      "metadata": {
        "id": "5Hv7_1pGQN7W"
      }
    },
    {
      "cell_type": "markdown",
      "source": [
        "**MULTIPLE LINEAR REGRESSION: STUDENT'S GRADES**"
      ],
      "metadata": {
        "id": "nwb0gAHWQRQl"
      }
    },
    {
      "cell_type": "markdown",
      "source": [
        "1. Import Libraries"
      ],
      "metadata": {
        "id": "m7QGHsi1QejL"
      }
    },
    {
      "cell_type": "code",
      "source": [
        "import pandas as pd\n",
        "import numpy as np\n",
        "import matplotlib.pyplot as plt\n",
        "from sklearn.linear_model import LinearRegression\n",
        "from sklearn.model_selection import train_test_split\n",
        "from sklearn.metrics import mean_squared_error\n"
      ],
      "metadata": {
        "id": "z0KxoA-5Qd_w"
      },
      "execution_count": null,
      "outputs": []
    },
    {
      "cell_type": "markdown",
      "source": [
        "2. Loading Dataset"
      ],
      "metadata": {
        "id": "qAyBrcPmRav9"
      }
    },
    {
      "cell_type": "code",
      "source": [
        "data = pd.read_csv('Lesson_4_student_grades_dataset.csv')"
      ],
      "metadata": {
        "id": "3u6e1krERsW-"
      },
      "execution_count": null,
      "outputs": []
    },
    {
      "cell_type": "markdown",
      "source": [
        "3. DataFrame"
      ],
      "metadata": {
        "id": "GOendMO3Rv_9"
      }
    },
    {
      "cell_type": "code",
      "source": [
        "x = pd.DataFrame(data, columns=['Hours_of_Study', 'Attendance_Percentage', 'Previous_Exam_Scores'])\n",
        "y = data['Grades']\n",
        "\n",
        "x_train, x_test, y_train, y_test = train_test_split(x, y, test_size= 0.2, random_state=42)\n",
        "x.head()\n",
        "\n",
        "#x = data.drop ('Grades', axis =1)"
      ],
      "metadata": {
        "colab": {
          "base_uri": "https://localhost:8080/",
          "height": 206
        },
        "id": "UFtglWgtSZrn",
        "outputId": "bb0b08a0-da2d-4015-8f71-1797828b3055"
      },
      "execution_count": null,
      "outputs": [
        {
          "output_type": "execute_result",
          "data": {
            "text/plain": [
              "   Hours_of_Study  Attendance_Percentage  Previous_Exam_Scores\n",
              "0        4.370861              75.553988             63.085284\n",
              "1        9.556429              86.257028             62.348940\n",
              "2        7.587945              96.188375             95.312729\n",
              "3        6.387926              91.966747             62.477310\n",
              "4        2.404168              94.196834             63.597486"
            ],
            "text/html": [
              "\n",
              "  <div id=\"df-00482d98-7b69-4534-bf86-3df5264d6828\" class=\"colab-df-container\">\n",
              "    <div>\n",
              "<style scoped>\n",
              "    .dataframe tbody tr th:only-of-type {\n",
              "        vertical-align: middle;\n",
              "    }\n",
              "\n",
              "    .dataframe tbody tr th {\n",
              "        vertical-align: top;\n",
              "    }\n",
              "\n",
              "    .dataframe thead th {\n",
              "        text-align: right;\n",
              "    }\n",
              "</style>\n",
              "<table border=\"1\" class=\"dataframe\">\n",
              "  <thead>\n",
              "    <tr style=\"text-align: right;\">\n",
              "      <th></th>\n",
              "      <th>Hours_of_Study</th>\n",
              "      <th>Attendance_Percentage</th>\n",
              "      <th>Previous_Exam_Scores</th>\n",
              "    </tr>\n",
              "  </thead>\n",
              "  <tbody>\n",
              "    <tr>\n",
              "      <th>0</th>\n",
              "      <td>4.370861</td>\n",
              "      <td>75.553988</td>\n",
              "      <td>63.085284</td>\n",
              "    </tr>\n",
              "    <tr>\n",
              "      <th>1</th>\n",
              "      <td>9.556429</td>\n",
              "      <td>86.257028</td>\n",
              "      <td>62.348940</td>\n",
              "    </tr>\n",
              "    <tr>\n",
              "      <th>2</th>\n",
              "      <td>7.587945</td>\n",
              "      <td>96.188375</td>\n",
              "      <td>95.312729</td>\n",
              "    </tr>\n",
              "    <tr>\n",
              "      <th>3</th>\n",
              "      <td>6.387926</td>\n",
              "      <td>91.966747</td>\n",
              "      <td>62.477310</td>\n",
              "    </tr>\n",
              "    <tr>\n",
              "      <th>4</th>\n",
              "      <td>2.404168</td>\n",
              "      <td>94.196834</td>\n",
              "      <td>63.597486</td>\n",
              "    </tr>\n",
              "  </tbody>\n",
              "</table>\n",
              "</div>\n",
              "    <div class=\"colab-df-buttons\">\n",
              "\n",
              "  <div class=\"colab-df-container\">\n",
              "    <button class=\"colab-df-convert\" onclick=\"convertToInteractive('df-00482d98-7b69-4534-bf86-3df5264d6828')\"\n",
              "            title=\"Convert this dataframe to an interactive table.\"\n",
              "            style=\"display:none;\">\n",
              "\n",
              "  <svg xmlns=\"http://www.w3.org/2000/svg\" height=\"24px\" viewBox=\"0 -960 960 960\">\n",
              "    <path d=\"M120-120v-720h720v720H120Zm60-500h600v-160H180v160Zm220 220h160v-160H400v160Zm0 220h160v-160H400v160ZM180-400h160v-160H180v160Zm440 0h160v-160H620v160ZM180-180h160v-160H180v160Zm440 0h160v-160H620v160Z\"/>\n",
              "  </svg>\n",
              "    </button>\n",
              "\n",
              "  <style>\n",
              "    .colab-df-container {\n",
              "      display:flex;\n",
              "      gap: 12px;\n",
              "    }\n",
              "\n",
              "    .colab-df-convert {\n",
              "      background-color: #E8F0FE;\n",
              "      border: none;\n",
              "      border-radius: 50%;\n",
              "      cursor: pointer;\n",
              "      display: none;\n",
              "      fill: #1967D2;\n",
              "      height: 32px;\n",
              "      padding: 0 0 0 0;\n",
              "      width: 32px;\n",
              "    }\n",
              "\n",
              "    .colab-df-convert:hover {\n",
              "      background-color: #E2EBFA;\n",
              "      box-shadow: 0px 1px 2px rgba(60, 64, 67, 0.3), 0px 1px 3px 1px rgba(60, 64, 67, 0.15);\n",
              "      fill: #174EA6;\n",
              "    }\n",
              "\n",
              "    .colab-df-buttons div {\n",
              "      margin-bottom: 4px;\n",
              "    }\n",
              "\n",
              "    [theme=dark] .colab-df-convert {\n",
              "      background-color: #3B4455;\n",
              "      fill: #D2E3FC;\n",
              "    }\n",
              "\n",
              "    [theme=dark] .colab-df-convert:hover {\n",
              "      background-color: #434B5C;\n",
              "      box-shadow: 0px 1px 3px 1px rgba(0, 0, 0, 0.15);\n",
              "      filter: drop-shadow(0px 1px 2px rgba(0, 0, 0, 0.3));\n",
              "      fill: #FFFFFF;\n",
              "    }\n",
              "  </style>\n",
              "\n",
              "    <script>\n",
              "      const buttonEl =\n",
              "        document.querySelector('#df-00482d98-7b69-4534-bf86-3df5264d6828 button.colab-df-convert');\n",
              "      buttonEl.style.display =\n",
              "        google.colab.kernel.accessAllowed ? 'block' : 'none';\n",
              "\n",
              "      async function convertToInteractive(key) {\n",
              "        const element = document.querySelector('#df-00482d98-7b69-4534-bf86-3df5264d6828');\n",
              "        const dataTable =\n",
              "          await google.colab.kernel.invokeFunction('convertToInteractive',\n",
              "                                                    [key], {});\n",
              "        if (!dataTable) return;\n",
              "\n",
              "        const docLinkHtml = 'Like what you see? Visit the ' +\n",
              "          '<a target=\"_blank\" href=https://colab.research.google.com/notebooks/data_table.ipynb>data table notebook</a>'\n",
              "          + ' to learn more about interactive tables.';\n",
              "        element.innerHTML = '';\n",
              "        dataTable['output_type'] = 'display_data';\n",
              "        await google.colab.output.renderOutput(dataTable, element);\n",
              "        const docLink = document.createElement('div');\n",
              "        docLink.innerHTML = docLinkHtml;\n",
              "        element.appendChild(docLink);\n",
              "      }\n",
              "    </script>\n",
              "  </div>\n",
              "\n",
              "\n",
              "<div id=\"df-a65b638f-c13e-41d5-a5bd-22d0111e6026\">\n",
              "  <button class=\"colab-df-quickchart\" onclick=\"quickchart('df-a65b638f-c13e-41d5-a5bd-22d0111e6026')\"\n",
              "            title=\"Suggest charts\"\n",
              "            style=\"display:none;\">\n",
              "\n",
              "<svg xmlns=\"http://www.w3.org/2000/svg\" height=\"24px\"viewBox=\"0 0 24 24\"\n",
              "     width=\"24px\">\n",
              "    <g>\n",
              "        <path d=\"M19 3H5c-1.1 0-2 .9-2 2v14c0 1.1.9 2 2 2h14c1.1 0 2-.9 2-2V5c0-1.1-.9-2-2-2zM9 17H7v-7h2v7zm4 0h-2V7h2v10zm4 0h-2v-4h2v4z\"/>\n",
              "    </g>\n",
              "</svg>\n",
              "  </button>\n",
              "\n",
              "<style>\n",
              "  .colab-df-quickchart {\n",
              "      --bg-color: #E8F0FE;\n",
              "      --fill-color: #1967D2;\n",
              "      --hover-bg-color: #E2EBFA;\n",
              "      --hover-fill-color: #174EA6;\n",
              "      --disabled-fill-color: #AAA;\n",
              "      --disabled-bg-color: #DDD;\n",
              "  }\n",
              "\n",
              "  [theme=dark] .colab-df-quickchart {\n",
              "      --bg-color: #3B4455;\n",
              "      --fill-color: #D2E3FC;\n",
              "      --hover-bg-color: #434B5C;\n",
              "      --hover-fill-color: #FFFFFF;\n",
              "      --disabled-bg-color: #3B4455;\n",
              "      --disabled-fill-color: #666;\n",
              "  }\n",
              "\n",
              "  .colab-df-quickchart {\n",
              "    background-color: var(--bg-color);\n",
              "    border: none;\n",
              "    border-radius: 50%;\n",
              "    cursor: pointer;\n",
              "    display: none;\n",
              "    fill: var(--fill-color);\n",
              "    height: 32px;\n",
              "    padding: 0;\n",
              "    width: 32px;\n",
              "  }\n",
              "\n",
              "  .colab-df-quickchart:hover {\n",
              "    background-color: var(--hover-bg-color);\n",
              "    box-shadow: 0 1px 2px rgba(60, 64, 67, 0.3), 0 1px 3px 1px rgba(60, 64, 67, 0.15);\n",
              "    fill: var(--button-hover-fill-color);\n",
              "  }\n",
              "\n",
              "  .colab-df-quickchart-complete:disabled,\n",
              "  .colab-df-quickchart-complete:disabled:hover {\n",
              "    background-color: var(--disabled-bg-color);\n",
              "    fill: var(--disabled-fill-color);\n",
              "    box-shadow: none;\n",
              "  }\n",
              "\n",
              "  .colab-df-spinner {\n",
              "    border: 2px solid var(--fill-color);\n",
              "    border-color: transparent;\n",
              "    border-bottom-color: var(--fill-color);\n",
              "    animation:\n",
              "      spin 1s steps(1) infinite;\n",
              "  }\n",
              "\n",
              "  @keyframes spin {\n",
              "    0% {\n",
              "      border-color: transparent;\n",
              "      border-bottom-color: var(--fill-color);\n",
              "      border-left-color: var(--fill-color);\n",
              "    }\n",
              "    20% {\n",
              "      border-color: transparent;\n",
              "      border-left-color: var(--fill-color);\n",
              "      border-top-color: var(--fill-color);\n",
              "    }\n",
              "    30% {\n",
              "      border-color: transparent;\n",
              "      border-left-color: var(--fill-color);\n",
              "      border-top-color: var(--fill-color);\n",
              "      border-right-color: var(--fill-color);\n",
              "    }\n",
              "    40% {\n",
              "      border-color: transparent;\n",
              "      border-right-color: var(--fill-color);\n",
              "      border-top-color: var(--fill-color);\n",
              "    }\n",
              "    60% {\n",
              "      border-color: transparent;\n",
              "      border-right-color: var(--fill-color);\n",
              "    }\n",
              "    80% {\n",
              "      border-color: transparent;\n",
              "      border-right-color: var(--fill-color);\n",
              "      border-bottom-color: var(--fill-color);\n",
              "    }\n",
              "    90% {\n",
              "      border-color: transparent;\n",
              "      border-bottom-color: var(--fill-color);\n",
              "    }\n",
              "  }\n",
              "</style>\n",
              "\n",
              "  <script>\n",
              "    async function quickchart(key) {\n",
              "      const quickchartButtonEl =\n",
              "        document.querySelector('#' + key + ' button');\n",
              "      quickchartButtonEl.disabled = true;  // To prevent multiple clicks.\n",
              "      quickchartButtonEl.classList.add('colab-df-spinner');\n",
              "      try {\n",
              "        const charts = await google.colab.kernel.invokeFunction(\n",
              "            'suggestCharts', [key], {});\n",
              "      } catch (error) {\n",
              "        console.error('Error during call to suggestCharts:', error);\n",
              "      }\n",
              "      quickchartButtonEl.classList.remove('colab-df-spinner');\n",
              "      quickchartButtonEl.classList.add('colab-df-quickchart-complete');\n",
              "    }\n",
              "    (() => {\n",
              "      let quickchartButtonEl =\n",
              "        document.querySelector('#df-a65b638f-c13e-41d5-a5bd-22d0111e6026 button');\n",
              "      quickchartButtonEl.style.display =\n",
              "        google.colab.kernel.accessAllowed ? 'block' : 'none';\n",
              "    })();\n",
              "  </script>\n",
              "</div>\n",
              "    </div>\n",
              "  </div>\n"
            ],
            "application/vnd.google.colaboratory.intrinsic+json": {
              "type": "dataframe",
              "summary": "{\n  \"name\": \"#x = data\",\n  \"rows\": 5,\n  \"fields\": [\n    {\n      \"column\": \"Hours_of_Study\",\n      \"properties\": {\n        \"dtype\": \"number\",\n        \"std\": 2.7787342465675944,\n        \"min\": 2.404167763981929,\n        \"max\": 9.556428757689243,\n        \"num_unique_values\": 5,\n        \"samples\": [\n          9.556428757689243,\n          2.404167763981929,\n          7.587945476302646\n        ],\n        \"semantic_type\": \"\",\n        \"description\": \"\"\n      }\n    },\n    {\n      \"column\": \"Attendance_Percentage\",\n      \"properties\": {\n        \"dtype\": \"number\",\n        \"std\": 8.301512243287146,\n        \"min\": 75.55398786515859,\n        \"max\": 96.18837507629225,\n        \"num_unique_values\": 5,\n        \"samples\": [\n          86.25702842135074,\n          94.1968344358435,\n          96.18837507629225\n        ],\n        \"semantic_type\": \"\",\n        \"description\": \"\"\n      }\n    },\n    {\n      \"column\": \"Previous_Exam_Scores\",\n      \"properties\": {\n        \"dtype\": \"number\",\n        \"std\": 14.514209043302849,\n        \"min\": 62.3489399536,\n        \"max\": 95.31272902605184,\n        \"num_unique_values\": 5,\n        \"samples\": [\n          62.3489399536,\n          63.59748630643155,\n          95.31272902605184\n        ],\n        \"semantic_type\": \"\",\n        \"description\": \"\"\n      }\n    }\n  ]\n}"
            }
          },
          "metadata": {},
          "execution_count": 53
        }
      ]
    },
    {
      "cell_type": "markdown",
      "source": [
        "4. Visualizing Data"
      ],
      "metadata": {
        "id": "iaiXQy9HYnzg"
      }
    },
    {
      "cell_type": "code",
      "source": [],
      "metadata": {
        "id": "MIA9bB9OagIu"
      },
      "execution_count": null,
      "outputs": []
    },
    {
      "cell_type": "markdown",
      "source": [
        "5. Initializing the Model"
      ],
      "metadata": {
        "id": "qdoKSmrpU-JI"
      }
    },
    {
      "cell_type": "code",
      "source": [
        "model = LinearRegression()"
      ],
      "metadata": {
        "id": "8QUIjatJVCHK"
      },
      "execution_count": null,
      "outputs": []
    },
    {
      "cell_type": "markdown",
      "source": [
        "6. Fitting the Model"
      ],
      "metadata": {
        "id": "IuXgSvSZVCei"
      }
    },
    {
      "cell_type": "code",
      "source": [
        "model.fit (x_train,y_train)"
      ],
      "metadata": {
        "colab": {
          "base_uri": "https://localhost:8080/",
          "height": 75
        },
        "id": "N8rAAroaVFYD",
        "outputId": "56733be2-7a2c-499b-b3f0-3dfacf75d813"
      },
      "execution_count": null,
      "outputs": [
        {
          "output_type": "execute_result",
          "data": {
            "text/plain": [
              "LinearRegression()"
            ],
            "text/html": [
              "<style>#sk-container-id-2 {color: black;background-color: white;}#sk-container-id-2 pre{padding: 0;}#sk-container-id-2 div.sk-toggleable {background-color: white;}#sk-container-id-2 label.sk-toggleable__label {cursor: pointer;display: block;width: 100%;margin-bottom: 0;padding: 0.3em;box-sizing: border-box;text-align: center;}#sk-container-id-2 label.sk-toggleable__label-arrow:before {content: \"▸\";float: left;margin-right: 0.25em;color: #696969;}#sk-container-id-2 label.sk-toggleable__label-arrow:hover:before {color: black;}#sk-container-id-2 div.sk-estimator:hover label.sk-toggleable__label-arrow:before {color: black;}#sk-container-id-2 div.sk-toggleable__content {max-height: 0;max-width: 0;overflow: hidden;text-align: left;background-color: #f0f8ff;}#sk-container-id-2 div.sk-toggleable__content pre {margin: 0.2em;color: black;border-radius: 0.25em;background-color: #f0f8ff;}#sk-container-id-2 input.sk-toggleable__control:checked~div.sk-toggleable__content {max-height: 200px;max-width: 100%;overflow: auto;}#sk-container-id-2 input.sk-toggleable__control:checked~label.sk-toggleable__label-arrow:before {content: \"▾\";}#sk-container-id-2 div.sk-estimator input.sk-toggleable__control:checked~label.sk-toggleable__label {background-color: #d4ebff;}#sk-container-id-2 div.sk-label input.sk-toggleable__control:checked~label.sk-toggleable__label {background-color: #d4ebff;}#sk-container-id-2 input.sk-hidden--visually {border: 0;clip: rect(1px 1px 1px 1px);clip: rect(1px, 1px, 1px, 1px);height: 1px;margin: -1px;overflow: hidden;padding: 0;position: absolute;width: 1px;}#sk-container-id-2 div.sk-estimator {font-family: monospace;background-color: #f0f8ff;border: 1px dotted black;border-radius: 0.25em;box-sizing: border-box;margin-bottom: 0.5em;}#sk-container-id-2 div.sk-estimator:hover {background-color: #d4ebff;}#sk-container-id-2 div.sk-parallel-item::after {content: \"\";width: 100%;border-bottom: 1px solid gray;flex-grow: 1;}#sk-container-id-2 div.sk-label:hover label.sk-toggleable__label {background-color: #d4ebff;}#sk-container-id-2 div.sk-serial::before {content: \"\";position: absolute;border-left: 1px solid gray;box-sizing: border-box;top: 0;bottom: 0;left: 50%;z-index: 0;}#sk-container-id-2 div.sk-serial {display: flex;flex-direction: column;align-items: center;background-color: white;padding-right: 0.2em;padding-left: 0.2em;position: relative;}#sk-container-id-2 div.sk-item {position: relative;z-index: 1;}#sk-container-id-2 div.sk-parallel {display: flex;align-items: stretch;justify-content: center;background-color: white;position: relative;}#sk-container-id-2 div.sk-item::before, #sk-container-id-2 div.sk-parallel-item::before {content: \"\";position: absolute;border-left: 1px solid gray;box-sizing: border-box;top: 0;bottom: 0;left: 50%;z-index: -1;}#sk-container-id-2 div.sk-parallel-item {display: flex;flex-direction: column;z-index: 1;position: relative;background-color: white;}#sk-container-id-2 div.sk-parallel-item:first-child::after {align-self: flex-end;width: 50%;}#sk-container-id-2 div.sk-parallel-item:last-child::after {align-self: flex-start;width: 50%;}#sk-container-id-2 div.sk-parallel-item:only-child::after {width: 0;}#sk-container-id-2 div.sk-dashed-wrapped {border: 1px dashed gray;margin: 0 0.4em 0.5em 0.4em;box-sizing: border-box;padding-bottom: 0.4em;background-color: white;}#sk-container-id-2 div.sk-label label {font-family: monospace;font-weight: bold;display: inline-block;line-height: 1.2em;}#sk-container-id-2 div.sk-label-container {text-align: center;}#sk-container-id-2 div.sk-container {/* jupyter's `normalize.less` sets `[hidden] { display: none; }` but bootstrap.min.css set `[hidden] { display: none !important; }` so we also need the `!important` here to be able to override the default hidden behavior on the sphinx rendered scikit-learn.org. See: https://github.com/scikit-learn/scikit-learn/issues/21755 */display: inline-block !important;position: relative;}#sk-container-id-2 div.sk-text-repr-fallback {display: none;}</style><div id=\"sk-container-id-2\" class=\"sk-top-container\"><div class=\"sk-text-repr-fallback\"><pre>LinearRegression()</pre><b>In a Jupyter environment, please rerun this cell to show the HTML representation or trust the notebook. <br />On GitHub, the HTML representation is unable to render, please try loading this page with nbviewer.org.</b></div><div class=\"sk-container\" hidden><div class=\"sk-item\"><div class=\"sk-estimator sk-toggleable\"><input class=\"sk-toggleable__control sk-hidden--visually\" id=\"sk-estimator-id-2\" type=\"checkbox\" checked><label for=\"sk-estimator-id-2\" class=\"sk-toggleable__label sk-toggleable__label-arrow\">LinearRegression</label><div class=\"sk-toggleable__content\"><pre>LinearRegression()</pre></div></div></div></div></div>"
            ]
          },
          "metadata": {},
          "execution_count": 47
        }
      ]
    },
    {
      "cell_type": "markdown",
      "source": [
        "7. Making Predictions"
      ],
      "metadata": {
        "id": "E-Hui3MxVFn0"
      }
    },
    {
      "cell_type": "code",
      "source": [
        "y_predict = model.predict(x_test)\n",
        "print(x_test)\n",
        "print(y_predict)"
      ],
      "metadata": {
        "colab": {
          "base_uri": "https://localhost:8080/"
        },
        "id": "Zqg3mOLXVImT",
        "outputId": "727a314c-c89b-43d5-ea2f-dcbf036752c0"
      },
      "execution_count": null,
      "outputs": [
        {
          "output_type": "stream",
          "name": "stdout",
          "text": [
            "     Hours_of_Study  Attendance_Percentage  Previous_Exam_Scores\n",
            "521        4.428018              98.033081             56.721756\n",
            "737        8.349395              75.838675             77.224117\n",
            "740        5.164118              94.826137             68.284037\n",
            "660        4.204871              88.017830             73.614090\n",
            "411        9.550558              73.357589             57.027648\n",
            "..              ...                    ...                   ...\n",
            "408        9.148438              87.560631             99.401798\n",
            "332        1.129541              76.853642             80.189773\n",
            "208        1.045554              78.208800             64.610912\n",
            "613        1.735831              79.730013             87.045203\n",
            "78         4.226192              76.547617             99.249483\n",
            "\n",
            "[200 rows x 3 columns]\n",
            "[33.75014712 35.53183493 36.29429235 35.96850896 30.09865602 30.16105916\n",
            " 28.73139466 34.10049323 32.16024717 32.8647739  40.44689094 32.63778433\n",
            " 41.57650405 38.49136389 40.94752567 30.77061207 34.62857893 31.11233628\n",
            " 31.35352788 31.47738267 31.96736447 33.74022013 37.29397746 40.21020842\n",
            " 39.02883562 37.02274584 39.8181105  32.16324774 30.38623894 34.98639032\n",
            " 37.76509565 42.53357142 37.62652804 38.42312376 39.99597877 39.25599036\n",
            " 34.28959187 40.61603113 35.16141029 37.01087783 38.63636567 35.36463997\n",
            " 35.05237543 32.07147922 34.20094653 39.61617714 36.05457777 28.57477275\n",
            " 31.57804121 28.76371196 35.41516627 31.67256407 40.54533636 34.87285659\n",
            " 32.87507236 29.48536967 33.52401791 26.98975555 34.56325469 40.53278864\n",
            " 31.0052006  44.02465763 40.28898474 43.67757314 25.85271    29.06718966\n",
            " 35.29572324 32.49738533 38.82240828 36.44768109 43.64687208 31.07913554\n",
            " 40.54390529 33.45618993 33.51675445 29.6791689  33.09715472 31.5008629\n",
            " 39.32427856 39.03958833 38.45323784 29.59552589 34.87819917 31.242439\n",
            " 31.50953105 32.01925246 31.69690738 26.38889101 31.98507339 31.70350055\n",
            " 44.79191173 43.03143472 33.73414644 42.28130521 32.58622599 32.25257222\n",
            " 27.88260714 44.3691016  34.64324343 35.7455138  36.02882346 42.86484932\n",
            " 37.01141    35.52731998 36.41430379 26.6003551  29.7558134  42.48593223\n",
            " 34.04284342 42.35024928 30.44332221 33.92371954 39.47570016 34.99283085\n",
            " 32.24517346 42.59886153 34.91475683 41.06572154 39.31040765 30.56741829\n",
            " 42.34842929 44.34352366 33.91361069 38.46479633 30.56858151 38.91748685\n",
            " 34.94203853 32.60922569 36.48627042 43.29921917 32.60614176 35.39555495\n",
            " 35.69162348 40.75322556 43.73596072 38.41316207 43.27331235 31.0764198\n",
            " 33.52074674 28.04533511 42.56921317 38.62755246 36.52732578 35.12960153\n",
            " 35.93768833 32.28775214 35.04944019 41.08974175 38.11009006 37.25145673\n",
            " 38.27611913 37.09308008 28.10035199 42.45531781 36.47794121 35.8186312\n",
            " 35.45035952 31.51875351 32.4468158  29.08336809 40.07669889 33.53192886\n",
            " 36.83232516 28.27083533 40.03067619 35.92907099 32.14747012 35.68511276\n",
            " 43.04664471 33.34584271 33.59092593 39.54558543 32.84482888 43.06371722\n",
            " 34.0140741  36.834267   41.31430933 34.68914716 41.10737205 29.43675135\n",
            " 36.77284402 36.34758831 38.68354966 30.71880433 32.34370012 39.5729929\n",
            " 33.86129211 27.50153043 35.61426244 35.85934007 34.24622885 28.50406156\n",
            " 40.03747026 32.89322847 43.23854886 44.00643643 34.43834705 30.64608237\n",
            " 37.00381996 40.2254507 ]\n"
          ]
        }
      ]
    }
  ]
}